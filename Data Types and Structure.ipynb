{
  "cells": [
    {
      "cell_type": "markdown",
      "metadata": {
        "id": "S4to70SdvFjn"
      },
      "source": [
        "# Data Types and Structures\n"
      ]
    },
    {
      "cell_type": "markdown",
      "metadata": {
        "id": "EYZXV2AavN1V"
      },
      "source": [
        "Q.1 What are data structures, and why are they important ?\n",
        "- Data structures are ways of organizing and storing data in a computer so that it can be accessed and modified efficiently. They are essential because they allow us to manage large amounts of data in a systematic way, which is crucial for developing efficient algorithms and software. Different data structures are suited for different tasks, so choosing the right one can significantly impact the performance of a program.\n",
        "\n",
        "Q.2 Explain the difference between mutable and immutable data types with examples.\n",
        "\n",
        "- Mutable Data Types:\n",
        "\n",
        "  Mutable data types can be changed after they are created. This means you can modify their contents without creating a new object. In Python, examples of mutable data types include:\n",
        "\n",
        "- Lists: Ordered collections of items that can be changed.\n",
        "\n",
        "- Dictionaries: Collections of key-value pairs that can be changed.\n",
        "\n",
        "- Sets: Unordered collections of unique items that can be changed.\n",
        "  Examples: Lists ([1, 2]), Dictionaries ({'a': 1}), Sets ({1, 2})\n",
        "\n",
        "- Immutable Data Types:\n",
        "\n",
        "  Immutable data types cannot be changed after they are created. If you need to modify an immutable object, you have to create a new object with the desired changes. In Python, examples of immutable data types include:\n",
        "\n",
        "- Integers, Floats, Booleans: Basic numerical and truth values.\n",
        "\n",
        "- Strings: Sequences of characters.\n",
        "\n",
        "- Tuples: Ordered, immutable collections of items.\n",
        "\n",
        "  Examples: Integers (5), Floats (3.14), Strings (\"hello\"), Tuples ((1, 2))\n",
        "\n",
        "  Think of mutable types like a whiteboard you can erase and write on, and immutable types like a printed page you have to rewrite entirely if you want to change something.\n",
        "\n",
        "Q.3 What are the main differences between lists and tuples in Python ?\n",
        "\n",
        "- The main differences between lists and tuples in Python, are:\n",
        "\n",
        "  Lists are mutable (changeable) and defined with [].\n",
        "  Tuples are immutable (unchangeable) and defined with ().\n",
        "\n",
        "  Tuples are generally slightly faster and use less memory. Lists are used for collections that will change, while tuples are used for fixed collections of related items.\n",
        "\n",
        "Q.4 Describe how dictionaries store data ?\n",
        "-  Dictionaries in Python store data as key-value pairs.\n",
        "   Imagine a dictionary like a phone book, but instead of names and numbers, you have key-value pairs.\n",
        "\n",
        "   Keys are like the names (they must be unique).\n",
        "   Values are like the phone numbers (they are linked to a specific name).\n",
        "   Dictionaries store data by using a special trick (called hashing) to quickly find the value when you give it the key. It's very fast for looking things up!\n",
        "\n",
        "   In essence, dictionaries provide a highly efficient way to store and retrieve data using meaningful keys rather than numerical indices like lists\n",
        "\n",
        "Q.5 Why might you use a set instead of a list in Python ?\n",
        "\n",
        "- We use a set instead of a list mainly for two simple reasons:\n",
        "\n",
        "  To automatically get rid of duplicates: Sets only keep one copy of each item. If you have a list with repeated items and you only want the unique ones, turning it into a set does that instantly.\n",
        "\n",
        "  To quickly check if something is there: Checking if an item is in a set is usually much faster than checking if it's in a list, especially for large collections.\n",
        "\n",
        "  So, use a set when you need unique items and need to check for items quickly, and the order doesn't matter. Use a list when you need to keep items in a specific order and allow duplicates.\n",
        "\n",
        "Q.6 What is a string in Python, and how is it different from a list ?\n",
        "\n",
        "- A string is a sequence of letters and symbols, like a word or a sentence   (\"hello\"). You cannot change individual letters in a string after you make it.\n",
        "\n",
        "  A list is a collection of different things, like numbers, words, or even other lists ([1, \"apple\", 3.14]). You can change the items in a list after you make it.\n",
        "  The key differences between strings and lists are:\n",
        "\n",
        "- Mutability: Strings are immutable, meaning once a string is created, you      cannot change individual characters within it. If you want to modify a string, you have to create a new string with the desired changes. Lists, on the other hand, are mutable, allowing you to change, add, or remove elements after the list is created.\n",
        "\n",
        "Q.7 How do tuples ensure data integrity in Python ?\n",
        "\n",
        "- Tuples in Python ensure data integrity primarily because they are immutable.  Tuples help keep data safe and correct because they are unchangeable.\n",
        "\n",
        "  Once you create a tuple, you can't add, remove, or change any of the items inside it.\n",
        "\n",
        "  This means the data you put in a tuple stays exactly the way you put it, preventing accidental mistakes or changes to your data.\n",
        "\n",
        "  Think of it like writing something in permanent marker – once it's there, it's fixed!\n",
        "\n",
        "Q.8 What is a hash table, and how does it relate to dictionaries in Python ?\n",
        "- A hash table (also known as a hash map) is a data structure that implements an associative array, or dictionary. It's designed to store key-value pairs in a way that allows for very fast retrieval of values based on their keys.\n",
        "\n",
        "  Dictionaries in Python use hash tables behind the scenes. They take the dictionary's key, use a special function (a hash function) to figure out where to store the value, and then use that same function to quickly find the value again when you provide the key.\n",
        "\n",
        "  This is why dictionary lookups are usually very fast.\n",
        "\n",
        "Q.9 Can lists contain different data types in Python ?\n",
        "\n",
        "- Yes, Python lists are designed to be very flexible and can indeed contain elements of different data types within the same list. This is one of their key characteristics.\n",
        "\n",
        "  This means you are not limited to having a list of just integers, or just strings, for example. You can mix and match various data types within a single list.\n",
        "\n",
        "  Here's a more detailed example:\n",
        "\n",
        "  my_diverse_list = [\n",
        "    10,           # integer\n",
        "    \"Python\",     # string\n",
        "    3.14,         # float\n",
        "    True,         # boolean\n",
        "    [1, 2, 3],    # another list (nested list)\n",
        "    {'a': 1, 'b': 2}, # a dictionary\n",
        "    (4, 5),       # a tuple\n",
        "    None          # None type\n",
        "  ]\n",
        "\n",
        "  print(my_diverse_list)\n",
        "\n",
        "  When you run this code, the output will be the list containing all these different types of elements:\n",
        "\n",
        "  [10, 'Python', 3.14, True, [1, 2, 3], {'a': 1, 'b': 2}, (4, 5), None]\n",
        "  This flexibility is a powerful feature of Python lists and makes them suitable for storing collections of related, but possibly differently typed, data.\n",
        "\n",
        "Q.10 Explain why strings are immutable in Python ?\n",
        "\n",
        "- Strings in Python are immutable primarily for:\n",
        "\n",
        "- Memory Efficiency: Allows Python to share identical string values in memory, saving space.\n",
        "- Hashability: Ensures a constant hash value, making them suitable for use as dictionary keys and set elements.\n",
        "- Predictability: Prevents unexpected changes to string values, making code more reliable.\n",
        "\n",
        "  When you \"modify\" a string, Python actually creates a new string object with the changes.\n",
        "\n",
        "Q.11 What advantages do dictionaries offer over lists for certain tasks ?\n",
        "- Dictionaries offer several significant advantages over lists for certain tasks,the primary benefits come down to speed, readability, and flexibility in how you access and structure data.\n",
        "\n",
        "- Speed (Fast Lookups):\n",
        "This is often the most significant advantage. Because dictionaries use hash tables, finding a value associated with a specific key is incredibly fast, regardless of how large the dictionary is. It's like having a direct line to the information you need.\n",
        "With lists, to find a specific item, Python might have to check every single item in the list until it finds a match. This gets much slower as the list grows larger.\n",
        "- Readability (Meaningful Keys):\n",
        "Instead of remembering that the person's age is at index 1 in a list, you can access it directly with a descriptive key like 'age'. This makes your code much easier to read, understand, and maintain, especially when dealing with complex data.\n",
        "- Flexibility (Representing Relationships):\n",
        "Dictionaries are ideal for situations where you have distinct pieces of information that are clearly linked together. For example, representing the properties of an object (like a person's name, age, and city) or configuration settings (like database host, username, and password). Each piece of information has a clear label (the key) associated with its value.\n",
        "\n",
        "Q.12 Describe a scenario where using a tuple would be preferable over a list ?\n",
        "\n",
        "- A scenario where using a tuple would be preferable over a list is when you have a collection of items that should not change after they are created, and you want to ensure that data integrity is maintained.\n",
        "\n",
        "  Scenario: Representing a Point in 2D Space\n",
        "\n",
        "  Imagine you need to store the coordinates of a point on a graph, like (x, y).\n",
        "\n",
        "  Using a Tuple: You'd use (x, y), like point = (10, 5). Since tuples are unchangeable, you know the coordinates of this point will stay exactly (10, 5). This is good because a point's location is usually fixed.\n",
        "\n",
        "  Using a List: You could use [x, y], like point = [10, 5]. But since lists can be changed, you could accidentally do point[0] = 12, changing the x-coordinate without meaning to.\n",
        "\n",
        "  Why Tuple is Better Here:\n",
        "\n",
        "  Using a tuple for a fixed point like a coordinate prevents accidental changes and keeps your data reliable, because the location of a point shouldn't just change on its own.\n",
        "\n",
        "Q.13 How do sets handle duplicate values in Python ?\n",
        "\n",
        "- Sets in Python are fundamentally designed to store unique elements. This means that they automatically handle duplicate values by simply not including them when you add them to a set.\n",
        "\n",
        "  Here's how it works:\n",
        "  When you create a set from an iterable (like a list or tuple) that contains duplicates: The set constructor will iterate through the elements and only add the unique ones to the set. The duplicates are discarded.\n",
        "\n",
        "  my_list_with_duplicates = [1, 2, 2, 3, 4, 4, 5]\n",
        "\n",
        "  my_set = set(my_list_with_duplicates)\n",
        "\n",
        "  print(my_set)\n",
        "\n",
        "  Output:{1, 2, 3, 4, 5}\n",
        "\n",
        "  When you try to add a duplicate element to an existing set using the add() method: The set will simply ignore the addition because the element is already present. It won't raise an error or change the set.So, sets automatically clean up duplicates for you, which is very useful when you need a collection of unique items.\n",
        "\n",
        "Q.14 How does the “in” keyword work differently for lists and dictionaries ?\n",
        "\n",
        "- The in keyword is used to check if something is \"inside\" a collection, but what it looks for is different:\n",
        "\n",
        "- For Lists: When you use item in my_list, you are checking if that specific item exists as one of the values stored in the list. Python might have to look through the list from the beginning to find it, so for very large lists, this check can take a little time.\n",
        " Example: 20 in [10, 20, 30] checks if 20 is one of the numbers in the list (True).\n",
        "\n",
        "- For Dictionaries: When you use key in my_dictionary, you are checking if that specific key exists among the keys of the dictionary. Python uses a very efficient method (hashing) to find keys directly, so this check is usually very fast, no matter how big the dictionary is. It does not check if a value is in the dictionary.\n",
        " Example: 'a' in {'a': 1, 'b': 2} checks if 'a' is one of the keys (True). 1 in {'a': 1, 'b': 2} checks if 1 is one of the keys (False), even though 1 is a value.\n",
        " So, the main difference is that in checks for values in lists and keys in dictionaries, and dictionary lookups are generally much quicker.\n",
        "\n",
        "Q.15 Can you modify the elements of a tuple? Explain why or why not ?\n",
        "\n",
        "- No, you cannot modify the elements of a tuple in Python after it has been created. This is because tuples are immutable.\n",
        "\n",
        "- Here's the explanation of why:\n",
        "\n",
        "- Immutability by Design: The core characteristic of a tuple is that it is an ordered, immutable collection. This immutability is a deliberate design choice in Python.\n",
        "- Data Integrity: As we discussed earlier, immutability helps ensure data integrity. Once a tuple is created, its contents are fixed. This prevents accidental or unintended changes to the data within the tuple, making your code more predictable and reliable.\n",
        "- Hashability: Because tuples are immutable (provided all their elements are also immutable), they are hashable. This means they can be used as keys in dictionaries and elements in sets. If tuples were mutable, their hash value could change, which would make them unsuitable for these uses.\n",
        "- Memory Efficiency and Optimization: Similar to strings, the immutability of tuples allows Python to make certain optimizations and potentially share identical tuples in memory.\n",
        "\n",
        "  If you try to change an element of a tuple using assignment, you will get a TypeError. To make a change to a tuple, you have to create a new tuple that includes the modifications you want, often by combining parts of the original tuple with new elements.\n",
        "\n",
        "Q.16 What is a nested dictionary, and give an example of its use case ?\n",
        "\n",
        "- A nested dictionary in Python is simply a dictionary where at least one of the values is itself another dictionary. This allows you to create hierarchical data structures, where data is organized in layers within layers.\n",
        "\n",
        "  Think of it like folders within folders on your computer, but instead of folders, you have dictionaries, and instead of files, you have key-value pairs.\n",
        "\n",
        "  Simple Example:\n",
        "\n",
        "  Imagine you have a list of people, and for each person, you want to store their name and their favorite colors.\n",
        "\n",
        "  people = {\n",
        "    'person1': {'name': 'Alice', 'colors': ['red', 'blue']},\n",
        "\n",
        "    'person2': {'name': 'Bob', 'colors': ['green', 'yellow']}\n",
        "  }\n",
        "\n",
        "  Here, the main dictionary people has keys 'person1' and 'person2'. The values for these keys are other dictionaries, each containing the person's 'name' and a list of 'colors'.\n",
        "\n",
        "  Use Case:\n",
        "  They're useful for organizing related data that has layers, like:\n",
        "  Storing information about things with sub-details (like our person example with name and colors).\n",
        "  Representing data from the internet that comes in a structured format (like JSON).\n",
        "  Think of it as creating a mini-database within your dictionary to keep things tidy.\n",
        "\n",
        "Q.17 Describe the time complexity of accessing elements in a dictionary ?\n",
        "\n",
        "  The time complexity of accessing elements in a dictionary in Python is generally very efficient. It's typically described as:\n",
        "\n",
        "- Average Case: O(1) - Constant Time\n",
        "  On average, retrieving a value from a dictionary using its key takes constant time. This means the time it takes to access an element doesn't significantly increase as the size of the dictionary grows.\n",
        "  This is the main advantage of using dictionaries for lookups, and it's achieved because dictionaries use hash tables internally. The hash function quickly calculates the location of the value based on the key.\n",
        "- Worst Case: O(n) - Linear Time\n",
        "  In the worst-case scenario, accessing an element can take linear time, O(n), where 'n' is the number of elements in the dictionary.\n",
        "  This worst case happens very rarely and is usually due to a high number of hash collisions. Hash collisions occur when two different keys produce the same hash code. While hash tables have strategies to handle collisions, if a bucket in the hash table ends up containing a long list of items due to many collisions, accessing an element in that bucket might require iterating through that list.\n",
        "  Python's hash function and dictionary implementation are designed to minimize collisions, so the worst case is uncommon in typical use.\n",
        "\n",
        "Q.18 In what situations are lists preferred over dictionaries ?\n",
        "\n",
        "- Lists are preferred over dictionaries in situations where:\n",
        "\n",
        "- The Order of Elements is Important: Lists maintain the insertion order of items, which is crucial for tasks where sequence matters.\n",
        "- You Need to Access Data by Numerical Index: Lists allow efficient access, insertion, or removal of elements based on their position.\n",
        "- You Need to Store Duplicate Elements: Lists can easily store multiple occurrences of the same element.\n",
        "- Sequential Operations: Lists support slicing and other operations designed for sequences.\n",
        "  So, choose a list for ordered collections where index-based access, duplicates, or sequential operations are key requirements.\n",
        "\n",
        "Q.19 Why are dictionaries considered unordered, and how does that affect data retrieval ?\n",
        "\n",
        "- Historically (before Python 3.7), dictionaries were considered unordered.     This meant you couldn't rely on the order of items when getting them out.\n",
        "\n",
        "  This affected data retrieval because you couldn't access items by their position or expect them to come out in the same order they went in.\n",
        "\n",
        "  In modern Python (3.7+), dictionaries do remember the order items were added, but you still mainly get items using their keys for fast access.\n",
        "\n",
        "Q.20 Explain the difference between a list and a dictionary in terms of data retrieval.\n",
        "\n",
        "  The main difference lies in how you identify and access the specific piece of data you want:\n",
        "\n",
        "- Lists: Retrieval by Position (Index)\n",
        "  In a list, you retrieve data based on its numerical position or index. The first item is at index 0, the second at index 1, and so on.\n",
        "  You use square brackets with the index to get an item: my_list[index].\n",
        "  To find a specific value within a list, you might need to search through the list using the in keyword or a loop, which can be slow for large lists (linear time, O(n)). However, accessing an element by its known index is generally fast (constant time, O(1)).\n",
        "\n",
        "  my_list = ['apple', 'banana', 'cherry']\n",
        "\n",
        "  print(my_list[1]) # Retrieves the item at index 1 (banana)\n",
        "\n",
        "- Dictionaries: Retrieval by Key\n",
        "  In a dictionary, you retrieve data based on a unique key associated with the value. The key acts like a label or identifier for the value.\n",
        "  You use square brackets with the key to get a value: my_dictionary[key].\n",
        "  Dictionaries are specifically optimized for very fast retrieval by key. Using a key to get a value is, on average, a constant time operation (O(1)), regardless of how large the dictionary is.\n",
        "\n",
        "  my_dict = {'fruit': 'apple', 'color': 'red'}\n",
        "\n",
        "  print(my_dict['fruit']) # Retrieves the value associated with the key 'fruit' (apple)"
      ]
    },
    {
      "cell_type": "code",
      "execution_count": 2,
      "metadata": {
        "id": "m-rl94nhtse5"
      },
      "outputs": [],
      "source": [
        "# practical questions\n"
      ]
    },
    {
      "cell_type": "code",
      "execution_count": 37,
      "metadata": {
        "colab": {
          "base_uri": "https://localhost:8080/"
        },
        "id": "ewFzYGrsuUk7",
        "outputId": "8a4af3ef-f361-4c03-e43e-a0f8277d9935"
      },
      "outputs": [
        {
          "name": "stdout",
          "output_type": "stream",
          "text": [
            "My name is Bhumika Meher\n"
          ]
        }
      ],
      "source": [
        "# 1.Write a code to create a string with your name and print it.\n",
        "s = \"My name is Bhumika Meher\"\n",
        "print(s)"
      ]
    },
    {
      "cell_type": "code",
      "execution_count": 4,
      "metadata": {
        "colab": {
          "base_uri": "https://localhost:8080/"
        },
        "id": "mP7zK9owydW1",
        "outputId": "49b98f0d-245c-4fed-db72-21c07629fc14"
      },
      "outputs": [
        {
          "name": "stdout",
          "output_type": "stream",
          "text": [
            "11\n"
          ]
        }
      ],
      "source": [
        "# 2.Write a code to find the length of the string \"Hello World\".\n",
        "s = \"Hello World\"\n",
        "print(len(s))"
      ]
    },
    {
      "cell_type": "code",
      "execution_count": 5,
      "metadata": {
        "colab": {
          "base_uri": "https://localhost:8080/"
        },
        "id": "aStgWUiNyw2C",
        "outputId": "2897f3a7-6320-42cb-999a-21b71059f031"
      },
      "outputs": [
        {
          "name": "stdout",
          "output_type": "stream",
          "text": [
            "Pyt\n"
          ]
        }
      ],
      "source": [
        "# 3.Write a code to slice the first 3 characters from the string \"Python Programming\"P.\n",
        "s = \"Python Programming\"\n",
        "first_three = s[:3]\n",
        "print(first_three)"
      ]
    },
    {
      "cell_type": "code",
      "execution_count": 6,
      "metadata": {
        "colab": {
          "base_uri": "https://localhost:8080/"
        },
        "id": "XeQe5Xxa0JUL",
        "outputId": "1ee466cb-92bb-4d9c-8782-5b8ea2765ab7"
      },
      "outputs": [
        {
          "name": "stdout",
          "output_type": "stream",
          "text": [
            "HELLO\n"
          ]
        }
      ],
      "source": [
        "# 4.Write a code to convert the string \"hello\" to uppercase.\n",
        "s=\"hello\"\n",
        "print(s.upper())\n",
        "\n"
      ]
    },
    {
      "cell_type": "code",
      "execution_count": 7,
      "metadata": {
        "colab": {
          "base_uri": "https://localhost:8080/"
        },
        "id": "sSp1LvGI09MU",
        "outputId": "dc47d569-9813-4acf-fe15-fe65fcd07a91"
      },
      "outputs": [
        {
          "name": "stdout",
          "output_type": "stream",
          "text": [
            "I like orange\n"
          ]
        }
      ],
      "source": [
        "# 5.Write a code to replace the word \"apple\" with \"orange\" in the string \"I like apple\".\n",
        "s = \"I like apple\"\n",
        "print(s.replace(\"apple\",\"orange\"))"
      ]
    },
    {
      "cell_type": "code",
      "execution_count": 8,
      "metadata": {
        "colab": {
          "base_uri": "https://localhost:8080/"
        },
        "id": "KIwfbZ9M1WGb",
        "outputId": "9024fc4d-5861-4421-a0fb-4c1755ee5b4b"
      },
      "outputs": [
        {
          "name": "stdout",
          "output_type": "stream",
          "text": [
            "[1, 2, 3, 4, 5]\n"
          ]
        }
      ],
      "source": [
        "# 6.Write a code to create a list with numbers 1 to 5 and print it.\n",
        "l = [1,2,3,4,5]\n",
        "print(l)\n"
      ]
    },
    {
      "cell_type": "code",
      "execution_count": 9,
      "metadata": {
        "colab": {
          "base_uri": "https://localhost:8080/"
        },
        "id": "U3DK3OWr1txP",
        "outputId": "8d11f3e0-dd2c-4ba8-ac08-79172f102c5d"
      },
      "outputs": [
        {
          "name": "stdout",
          "output_type": "stream",
          "text": [
            "[1, 2, 3, 4, 10]\n"
          ]
        }
      ],
      "source": [
        "# 7.Write a code to append the number 10 to the list [1, 2, 3, 4].\n",
        "l = [1,2,3,4]\n",
        "l.append(10)\n",
        "print(l)"
      ]
    },
    {
      "cell_type": "code",
      "execution_count": 10,
      "metadata": {
        "colab": {
          "base_uri": "https://localhost:8080/"
        },
        "id": "wwLvqmzu2L28",
        "outputId": "cb82b816-eb7c-4db6-f8cd-497e264247a5"
      },
      "outputs": [
        {
          "name": "stdout",
          "output_type": "stream",
          "text": [
            "[1, 2, 4, 5]\n"
          ]
        }
      ],
      "source": [
        "# 8.Write a code to remove the number 3 from the list [1, 2, 3, 4, 5].\n",
        "l = [1,2,3,4,5]\n",
        "l.remove(3)\n",
        "print(l)"
      ]
    },
    {
      "cell_type": "code",
      "execution_count": 13,
      "metadata": {
        "colab": {
          "base_uri": "https://localhost:8080/"
        },
        "id": "HK9XxaKa2XiJ",
        "outputId": "a1055459-91e7-4c94-e6b0-f3a6ba1e313b"
      },
      "outputs": [
        {
          "name": "stdout",
          "output_type": "stream",
          "text": [
            "b\n"
          ]
        }
      ],
      "source": [
        " # 9.Write a code to access the second element in the list ['a', 'b', 'c', 'd'].\n",
        "t = ['a', 'b', 'c', 'd']\n",
        "second_element = t[1]\n",
        "print(second_element)"
      ]
    },
    {
      "cell_type": "code",
      "execution_count": 14,
      "metadata": {
        "colab": {
          "base_uri": "https://localhost:8080/"
        },
        "id": "OYvi2b_e3G0u",
        "outputId": "79a90f10-d436-47b2-e827-c275989df0b5"
      },
      "outputs": [
        {
          "name": "stdout",
          "output_type": "stream",
          "text": [
            "[50, 40, 30, 20, 10]\n"
          ]
        }
      ],
      "source": [
        "# 10. Write a code to reverse the list [10, 20, 30, 40, 50].\n",
        "l = [10,20,30,40,50]\n",
        "l.reverse()\n",
        "print(l)"
      ]
    },
    {
      "cell_type": "code",
      "execution_count": 16,
      "metadata": {
        "colab": {
          "base_uri": "https://localhost:8080/"
        },
        "id": "p6V_cHvq59p_",
        "outputId": "e0abd457-8c13-4143-d080-d2d7392e73c7"
      },
      "outputs": [
        {
          "name": "stdout",
          "output_type": "stream",
          "text": [
            "(100, 200, 300)\n"
          ]
        }
      ],
      "source": [
        "# 11.Write a code to create a tuple with the elements 100, 200, 300 and print it.\n",
        "t = (100, 200, 300)\n",
        "print(t)"
      ]
    },
    {
      "cell_type": "code",
      "execution_count": 17,
      "metadata": {
        "colab": {
          "base_uri": "https://localhost:8080/"
        },
        "id": "WkjXYAB-6flL",
        "outputId": "dc76b2d4-5774-483f-f898-4ba144e60633"
      },
      "outputs": [
        {
          "name": "stdout",
          "output_type": "stream",
          "text": [
            "blue\n"
          ]
        }
      ],
      "source": [
        "# 12.Write a code to access the second-to-last element of the tuple ('red', 'green', 'blue', 'yellow').\n",
        "t = ('red', 'green', 'blue', 'yellow')\n",
        "second_to_last_element = t[-2]\n",
        "print(second_to_last_element)"
      ]
    },
    {
      "cell_type": "code",
      "execution_count": 18,
      "metadata": {
        "colab": {
          "base_uri": "https://localhost:8080/"
        },
        "id": "weFn11ys6wWj",
        "outputId": "c796d4bc-0b0e-4956-a46c-743a5d523d87"
      },
      "outputs": [
        {
          "name": "stdout",
          "output_type": "stream",
          "text": [
            "5\n"
          ]
        }
      ],
      "source": [
        "# 13.Write a code to find the minimum number in the tuple (10, 20, 5, 15).\n",
        "t = (10, 20, 5, 15)\n",
        "minimum_number = min(t)\n",
        "print(minimum_number)"
      ]
    },
    {
      "cell_type": "code",
      "execution_count": 19,
      "metadata": {
        "colab": {
          "base_uri": "https://localhost:8080/"
        },
        "id": "rxZLeexY7U_x",
        "outputId": "3e04bfb8-1488-4f0f-f00e-becb050da75c"
      },
      "outputs": [
        {
          "name": "stdout",
          "output_type": "stream",
          "text": [
            "The index of 'cat' is: 1\n"
          ]
        }
      ],
      "source": [
        "# 14.Write a code to find the index of the element \"cat\" in the tuple ('dog', 'cat', 'rabbit').\n",
        "a = ('dog','cat','rabbit')\n",
        "index_of_cat = a.index('cat')\n",
        "print(f\"The index of 'cat' is: {index_of_cat}\")"
      ]
    },
    {
      "cell_type": "code",
      "execution_count": 53,
      "metadata": {
        "colab": {
          "base_uri": "https://localhost:8080/"
        },
        "id": "iGn-554X7_sf",
        "outputId": "ea8398bf-9912-4a45-a90e-f958f3d9f0b9"
      },
      "outputs": [
        {
          "name": "stdout",
          "output_type": "stream",
          "text": [
            "kiwi is not in the tuple\n"
          ]
        }
      ],
      "source": [
        "# 15.Write a code to create a tuple containing three different fruits and check if \"kiwi\" is in it.\n",
        "fruits = (\"apple\", \"banana\", \"cherry\")\n",
        "if \"kiwi\" in fruits:\n",
        "    print(\"kiwi is in the tuple\")\n",
        "else:\n",
        "    print(\"kiwi is not in the tuple\")"
      ]
    },
    {
      "cell_type": "code",
      "execution_count": 21,
      "metadata": {
        "colab": {
          "base_uri": "https://localhost:8080/"
        },
        "id": "QiQXaxR880TL",
        "outputId": "349ae67f-e32d-4860-eb6f-9a8ae3b34265"
      },
      "outputs": [
        {
          "name": "stdout",
          "output_type": "stream",
          "text": [
            "{'b', 'a', 'c'}\n"
          ]
        }
      ],
      "source": [
        "# 16.Write a code to create a set with the elements 'a', 'b', 'c' and print it\n",
        "my_set = {'a', 'b', 'c'}\n",
        "print(my_set)"
      ]
    },
    {
      "cell_type": "code",
      "execution_count": 25,
      "metadata": {
        "colab": {
          "base_uri": "https://localhost:8080/"
        },
        "id": "rGdXfaf69H3j",
        "outputId": "66f90266-b582-4a0c-af3f-ca1f1bce9d2c"
      },
      "outputs": [
        {
          "name": "stdout",
          "output_type": "stream",
          "text": [
            "set()\n"
          ]
        }
      ],
      "source": [
        "# 17.Write a code to clear all elements from the set {1, 2, 3, 4, 5}.\n",
        "my_set = {1, 2, 3, 4, 5}\n",
        "my_set.clear()\n",
        "print(my_set)"
      ]
    },
    {
      "cell_type": "code",
      "execution_count": 26,
      "metadata": {
        "colab": {
          "base_uri": "https://localhost:8080/"
        },
        "id": "lyhlTlE_9zpY",
        "outputId": "79bbecb5-6043-45a9-b829-75bf83b6972f"
      },
      "outputs": [
        {
          "name": "stdout",
          "output_type": "stream",
          "text": [
            "{1, 2, 3}\n"
          ]
        }
      ],
      "source": [
        "# 18.Write a code to remove the element 4 from the set {1, 2, 3, 4}.\n",
        "my_set = {1, 2, 3, 4}\n",
        "my_set.remove(4)\n",
        "print(my_set)"
      ]
    },
    {
      "cell_type": "code",
      "execution_count": 27,
      "metadata": {
        "colab": {
          "base_uri": "https://localhost:8080/"
        },
        "id": "fXuPMuin-VAO",
        "outputId": "5ede9fa2-d32d-487b-b27a-ef13d8557d01"
      },
      "outputs": [
        {
          "name": "stdout",
          "output_type": "stream",
          "text": [
            "{1, 2, 3, 4, 5}\n"
          ]
        }
      ],
      "source": [
        "# 19.Write a code to find the union of two sets {1, 2, 3} and {3, 4, 5}.\n",
        "set1 = {1, 2, 3}\n",
        "set2 = {3, 4, 5}\n",
        "union_set = set1.union(set2)\n",
        "print(union_set)"
      ]
    },
    {
      "cell_type": "code",
      "execution_count": 28,
      "metadata": {
        "colab": {
          "base_uri": "https://localhost:8080/"
        },
        "id": "MxdtlDQX-sVM",
        "outputId": "8c9fb670-44ac-478b-ea9c-738d54257b26"
      },
      "outputs": [
        {
          "name": "stdout",
          "output_type": "stream",
          "text": [
            "{2, 3}\n"
          ]
        }
      ],
      "source": [
        "# 20. Write a code to find the intersection of two sets {1, 2, 3} and {2, 3, 4}.\n",
        "set1 = {1, 2, 3}\n",
        "set2 = {2, 3, 4}\n",
        "intersection_set = set1.intersection(set2)\n",
        "print(intersection_set)"
      ]
    },
    {
      "cell_type": "code",
      "execution_count": 35,
      "metadata": {
        "colab": {
          "base_uri": "https://localhost:8080/"
        },
        "id": "rsU4IBn4-1Vz",
        "outputId": "f45ecc5c-75f9-4f9b-f342-206f30ae3b94"
      },
      "outputs": [
        {
          "name": "stdout",
          "output_type": "stream",
          "text": [
            "{'name': 'Sanika', 'age': '21', 'city': 'Pune'}\n"
          ]
        }
      ],
      "source": [
        "# 21.Write a code to create a dictionary with the keys \"name\", \"age\", and \"city\", and print it.\n",
        "my_dict = {\n",
        "    \"name\": \"Sanika\",\n",
        "    \"age\": \"21\",\n",
        "    \"city\": \"Pune\"\n",
        "}\n",
        "print(my_dict)"
      ]
    },
    {
      "cell_type": "code",
      "execution_count": 36,
      "metadata": {
        "colab": {
          "base_uri": "https://localhost:8080/"
        },
        "id": "qsgAvtSq_qeR",
        "outputId": "cd59e7bb-4160-4eec-af6b-e9ff384b3348"
      },
      "outputs": [
        {
          "name": "stdout",
          "output_type": "stream",
          "text": [
            "{'name': 'John', 'age': 25, 'country': 'USA'}\n"
          ]
        }
      ],
      "source": [
        "# 22.Write a code to add a new key-value pair \"country\": \"USA\" to the dictionary {'name': 'John', 'age': 25}.\n",
        "my_dict = {'name': 'John', 'age': 25}\n",
        "my_dict['country'] = 'USA'\n",
        "print(my_dict)"
      ]
    },
    {
      "cell_type": "code",
      "execution_count": 38,
      "metadata": {
        "colab": {
          "base_uri": "https://localhost:8080/"
        },
        "id": "WjTBAzzG_S-Q",
        "outputId": "9400c2e1-fda9-46a2-8050-d6ab67d73db1"
      },
      "outputs": [
        {
          "name": "stdout",
          "output_type": "stream",
          "text": [
            "Alice\n"
          ]
        }
      ],
      "source": [
        "# 23.Write a code to access the value associated with the key \"name\" in the dictionary {'name': 'Alice', 'age': 30}.\n",
        "my_dict = {'name': 'Alice', 'age': 30}\n",
        "name_value = my_dict['name']\n",
        "print(name_value)"
      ]
    },
    {
      "cell_type": "code",
      "execution_count": 39,
      "metadata": {
        "colab": {
          "base_uri": "https://localhost:8080/"
        },
        "id": "P9qirtsxAbRO",
        "outputId": "22618714-7c11-4c03-d3da-36533ca336c0"
      },
      "outputs": [
        {
          "name": "stdout",
          "output_type": "stream",
          "text": [
            "{'name': 'Bob', 'city': 'New York'}\n"
          ]
        }
      ],
      "source": [
        "# 24.Write a code to remove the key \"age\" from the dictionary {'name': 'Bob', 'age': 22, 'city': 'New York'}.\n",
        "my_dict = {'name': 'Bob', 'age': 22, 'city': 'New York'}\n",
        "del my_dict['age']\n",
        "print(my_dict)"
      ]
    },
    {
      "cell_type": "code",
      "execution_count": 40,
      "metadata": {
        "colab": {
          "base_uri": "https://localhost:8080/"
        },
        "id": "Llx_inSIAtkA",
        "outputId": "29844a41-a234-47f2-baa8-1b5685643fea"
      },
      "outputs": [
        {
          "name": "stdout",
          "output_type": "stream",
          "text": [
            "The key 'city' exists in the dictionary.\n"
          ]
        }
      ],
      "source": [
        "# 25.Write a code to check if the key \"city\" exists in the dictionary {'name': 'Alice', 'city': 'Paris'}.\n",
        "my_dict = {'name': 'Alice', 'city': 'Paris'}\n",
        "if 'city' in my_dict:\n",
        "    print(\"The key 'city' exists in the dictionary.\")\n",
        "else:\n",
        "    print(\"The key 'city' does not exist in the dictionary.\")"
      ]
    },
    {
      "cell_type": "code",
      "execution_count": 41,
      "metadata": {
        "colab": {
          "base_uri": "https://localhost:8080/"
        },
        "id": "vET8d8DcA5FZ",
        "outputId": "cceedee8-9cc4-47e8-bf8c-a008846999f8"
      },
      "outputs": [
        {
          "name": "stdout",
          "output_type": "stream",
          "text": [
            "My List: [1, 2, 3, 4, 5]\n",
            "My Tuple: (10, 20, 30, 40, 50)\n",
            "My Dictionary: {'name': 'Alice', 'age': 30}\n"
          ]
        }
      ],
      "source": [
        "# 26. Write a code to create a list, a tuple, and a dictionary, and print them all.\n",
        "my_list = [1, 2, 3, 4, 5]\n",
        "my_tuple = (10, 20, 30, 40, 50)\n",
        "my_dictionary = {\"name\": \"Alice\", \"age\": 30}\n",
        "\n",
        "print(\"My List:\", my_list)\n",
        "print(\"My Tuple:\", my_tuple)\n",
        "print(\"My Dictionary:\", my_dictionary)"
      ]
    },
    {
      "cell_type": "code",
      "execution_count": 50,
      "metadata": {
        "colab": {
          "base_uri": "https://localhost:8080/"
        },
        "id": "jSr0mqcdBJaH",
        "outputId": "5c975f5e-e579-4db8-c6f3-2b7d656dddf7"
      },
      "outputs": [
        {
          "name": "stdout",
          "output_type": "stream",
          "text": [
            "Sorted list: [10, 22, 34, 41, 46]\n"
          ]
        }
      ],
      "source": [
        "# 27. Write a code to create a list of 5 random numbers between 1 and 100, sort it in ascending order, and print the result.\n",
        "import random\n",
        "random_numbers_list = [random.randint(1, 100) for _ in range(5)]\n",
        "random_numbers_list.sort()\n",
        "print(\"Sorted list:\", random_numbers_list)"
      ]
    },
    {
      "cell_type": "code",
      "execution_count": 54,
      "metadata": {
        "colab": {
          "base_uri": "https://localhost:8080/"
        },
        "id": "FSPtUxtODsX3",
        "outputId": "20f780cb-d0bd-45ac-a581-3b825d507359"
      },
      "outputs": [
        {
          "name": "stdout",
          "output_type": "stream",
          "text": [
            "cherry\n"
          ]
        }
      ],
      "source": [
        "# 28.Write a code to create a list with strings and print the element at the third index\n",
        "s = [\"apple\", \"banana\", \"cherry\", \"date\", \"elderberry\"]\n",
        "print(s[2])"
      ]
    },
    {
      "cell_type": "code",
      "execution_count": 55,
      "metadata": {
        "colab": {
          "base_uri": "https://localhost:8080/"
        },
        "id": "obtjFx3XEMjF",
        "outputId": "2967eb23-6c71-4a10-f743-6780a0bef61b"
      },
      "outputs": [
        {
          "name": "stdout",
          "output_type": "stream",
          "text": [
            "{'a': 1, 'b': 2, 'c': 3, 'd': 4}\n"
          ]
        }
      ],
      "source": [
        "# 29.Write a code to combine two dictionaries into one and print the result.\n",
        "dict1 = {'a': 1, 'b': 2}\n",
        "dict2 = {'c': 3, 'd': 4}\n",
        "combined_dict = {**dict1, **dict2}\n",
        "print(combined_dict)"
      ]
    },
    {
      "cell_type": "code",
      "execution_count": 56,
      "metadata": {
        "colab": {
          "base_uri": "https://localhost:8080/"
        },
        "id": "0SMso3TUEdfQ",
        "outputId": "9743d868-cef5-4a7d-a57b-7046a38fff1c"
      },
      "outputs": [
        {
          "name": "stdout",
          "output_type": "stream",
          "text": [
            "{'banana', 'date', 'apple', 'cherry'}\n"
          ]
        }
      ],
      "source": [
        "# 30.Write a code to convert a list of strings into a set.\n",
        "string_list = [\"apple\", \"banana\", \"cherry\", \"date\"]\n",
        "string_set = set(string_list)\n",
        "print(string_set)"
      ]
    }
  ],
  "metadata": {
    "colab": {
      "provenance": []
    },
    "kernelspec": {
      "display_name": "Python 3",
      "name": "python3"
    },
    "language_info": {
      "name": "python"
    }
  },
  "nbformat": 4,
  "nbformat_minor": 0
}
